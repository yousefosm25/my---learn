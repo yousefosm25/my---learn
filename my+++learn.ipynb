{
 "cells": [
  {
   "cell_type": "markdown",
   "metadata": {},
   "source": [
    "# Example 1: converting integer to float"
   ]
  },
  {
   "cell_type": "code",
   "execution_count": 2,
   "metadata": {},
   "outputs": [
    {
     "name": "stdout",
     "output_type": "stream",
     "text": [
      "New value: 12346.2345\n",
      "Data type of new value: <class 'float'>\n",
      "New value : 12347.469000000001\n",
      "Data type of new value: <class 'float'>\n"
     ]
    }
   ],
   "source": [
    "integer_value =  12345\n",
    "float_value = 1.2345\n",
    "float_value2 =3.3\n",
    "new_value = integer_value + float_value\n",
    "new_value2 = new_value + float_value\n",
    "# display new value and resulting data type\n",
    "print(f\"New value: {new_value}\")\n",
    "print(f\"Data type of new value: {type(new_value)}\")\n",
    "print(f\"New value : {new_value2}\")\n",
    "print(f\"Data type of new value: {type(new_value2)}\")"
   ]
  },
  {
   "cell_type": "markdown",
   "metadata": {},
   "source": [
    "# Explicit Type Conversion"
   ]
  },
  {
   "cell_type": "code",
   "execution_count": 11,
   "metadata": {},
   "outputs": [
    {
     "name": "stdout",
     "output_type": "stream",
     "text": [
      "Data type before type Casting: 12\n",
      "Data type after type Casting: <class 'int'>\n",
      "Sum of integer and string: 24\n",
      "Data type of sum: <class 'int'>\n"
     ]
    }
   ],
   "source": [
    "num_string = \"12\"\n",
    "num_integer = 12\n",
    "print(f\"Data type before type Casting: {num_string}\")\n",
    "num_string =int(num_string)\n",
    "print(f\"Data type after type Casting: {type(num_string)}\")\n",
    "\n",
    "num_sum = num_integer + num_string\n",
    "print(f\"Sum of integer and string: {num_sum}\")\n",
    "print(f'Data type of sum: {type(num_sum)}')\n"
   ]
  },
  {
   "cell_type": "markdown",
   "metadata": {},
   "source": [
    "# Python Basic Input And Output"
   ]
  },
  {
   "cell_type": "code",
   "execution_count": null,
   "metadata": {},
   "outputs": [],
   "source": [
    "print(\"my name\")"
   ]
  },
  {
   "cell_type": "code",
   "execution_count": null,
   "metadata": {},
   "outputs": [],
   "source": [
    "print('New Year',2025,'See you',sep= '.')"
   ]
  },
  {
   "cell_type": "code",
   "execution_count": null,
   "metadata": {},
   "outputs": [],
   "source": [
    "print('yousef'+\"mosed\")\n"
   ]
  },
  {
   "cell_type": "markdown",
   "metadata": {},
   "source": [
    "# Output Formatting"
   ]
  },
  {
   "cell_type": "code",
   "execution_count": 14,
   "metadata": {},
   "outputs": [
    {
     "name": "stdout",
     "output_type": "stream",
     "text": [
      "The value of x is 8, and the value of y is 20 and z is 40\n"
     ]
    }
   ],
   "source": [
    "x=8\n",
    "y=20\n",
    "z =40\n",
    "\n",
    "print('The value of x is {}, and the value of y is {} and z is {}'.format(x,y,z))"
   ]
  },
  {
   "cell_type": "markdown",
   "metadata": {},
   "source": [
    "# Python Basic Input"
   ]
  },
  {
   "cell_type": "code",
   "execution_count": 1,
   "metadata": {},
   "outputs": [
    {
     "name": "stdout",
     "output_type": "stream",
     "text": [
      "The entered number is: 90\n",
      "Data type of num: <class 'int'>\n"
     ]
    }
   ],
   "source": [
    "num =input('Enter a number:')\n",
    "num = int(num)  # type casting from string to integer\n",
    "print('The entered number is:',num)\n",
    "print('Data type of num:', type(num))\n"
   ]
  },
  {
   "cell_type": "code",
   "execution_count": 2,
   "metadata": {},
   "outputs": [],
   "source": [
    "num=int(input('Enter a number:'))\n",
    "print('The entered number is:',num)\n",
    "print('Data type of num:', type(num))"
   ]
  }
 ],
 "metadata": {
  "kernelspec": {
   "display_name": "Python 3",
   "language": "python",
   "name": "python3"
  },
  "language_info": {
   "codemirror_mode": {
    "name": "ipython",
    "version": 3
   },
   "file_extension": ".py",
   "mimetype": "text/x-python",
   "name": "python",
   "nbconvert_exporter": "python",
   "pygments_lexer": "ipython3",
   "version": "3.13.1"
  }
 },
 "nbformat": 4,
 "nbformat_minor": 2
}
